{
 "cells": [
  {
   "cell_type": "markdown",
   "metadata": {},
   "source": [
    "# Using Rekognition for Video"
   ]
  },
  {
   "cell_type": "code",
   "execution_count": 1,
   "metadata": {
    "collapsed": true
   },
   "outputs": [],
   "source": [
    "# initialise Notebook\n",
    "import imageio\n",
    "imageio.plugins.ffmpeg.download()\n",
    "import boto3\n",
    "from IPython.display import HTML, display\n",
    "from PIL import Image\n",
    "from pprint import pprint\n",
    "from io import BytesIO\n",
    "import moviepy.editor as mpy\n",
    "import os\n",
    "import uuid\n",
    "import io\n",
    "\n",
    "YOUR_ACCESS_KEY='###########' #Put your account's ACCESS_KEY\n",
    "YOUR_SECRET_KEY='###########################' #Put your account's SECRET_ACCESS_KEY"
   ]
  },
  {
   "cell_type": "code",
   "execution_count": 2,
   "metadata": {
    "collapsed": true
   },
   "outputs": [],
   "source": [
    "#Initialize the clients\n",
    "rekognition = boto3.client('rekognition', region_name='us-west-2',\n",
    "                           aws_access_key_id=YOUR_ACCESS_KEY,aws_secret_access_key=YOUR_SECRET_KEY)\n",
    "dynamodb = boto3.resource('dynamodb', region_name='us-west-2',\n",
    "                           aws_access_key_id=YOUR_ACCESS_KEY,aws_secret_access_key=YOUR_SECRET_KEY)\n",
    "s3 = boto3.client('s3', region_name='us-west-2',\n",
    "                           aws_access_key_id=YOUR_ACCESS_KEY,aws_secret_access_key=YOUR_SECRET_KEY)"
   ]
  },
  {
   "cell_type": "markdown",
   "metadata": {},
   "source": [
    "# Build the index of faces and create your meta-store\n",
    "\n",
    "Before we start identifying personalities from a video, we need to build the Rekognition index of the faces for those personalities and then create our metastore in DynamoDB with those indices.\n",
    "\n",
    "For this demo, download the jpg images from this repository and upload them to appropriate S3 bucket"
   ]
  },
  {
   "cell_type": "code",
   "execution_count": 14,
   "metadata": {
    "collapsed": false
   },
   "outputs": [
    {
     "name": "stdout",
     "output_type": "stream",
     "text": [
      "aws:rekognition:us-west-2:681445445985:collection/personalities\t200\n"
     ]
    }
   ],
   "source": [
    "%%bash\n",
    "aws rekognition create-collection --collection-id personalities --region us-west-2"
   ]
  },
  {
   "cell_type": "code",
   "execution_count": 19,
   "metadata": {
    "collapsed": false
   },
   "outputs": [
    {
     "name": "stdout",
     "output_type": "stream",
     "text": [
      "TABLEDESCRIPTION\t1504781722.43\t0\tarn:aws:dynamodb:us-west-2:681445445985:table/rekognition_personalities\trekognition_personalities\t0\tCREATING\n",
      "ATTRIBUTEDEFINITIONS\tId\tS\n",
      "KEYSCHEMA\tId\tHASH\n",
      "PROVISIONEDTHROUGHPUT\t0\t5\t5\n"
     ]
    }
   ],
   "source": [
    "%%bash\n",
    "aws dynamodb create-table --table-name rekognition_personalities --attribute-definitions AttributeName=Id,AttributeType=S --key-schema AttributeName=Id,KeyType=HASH --provisioned-throughput ReadCapacityUnits=5,WriteCapacityUnits=5"
   ]
  },
  {
   "cell_type": "code",
   "execution_count": 7,
   "metadata": {
    "collapsed": false
   },
   "outputs": [
    {
     "name": "stdout",
     "output_type": "stream",
     "text": [
      "('Indexing ', 'sample_iamges/for_rekog_demo/lionel-messi-1.jpg')\n",
      "Populating DynamoDB index for Lionel Messi as 6c5cee3b-e088-5e59-ae50-7cdf32b0495d\n",
      "200\n",
      "('Indexing ', 'sample_iamges/for_rekog_demo/lionel-messi-2.jpg')\n",
      "Populating DynamoDB index for Lionel Messi as 9387ed04-48c9-54d8-9b23-5a15f61c2fb8\n",
      "200\n",
      "('Indexing ', 'sample_iamges/for_rekog_demo/lionel-messi-3.jpg')\n",
      "Populating DynamoDB index for Lionel Messi as 3570f1c5-6909-51a0-bdac-f32f84833b71\n",
      "200\n",
      "('Indexing ', 'sample_iamges/for_rekog_demo/lionel-messi-4.jpg')\n",
      "Populating DynamoDB index for Lionel Messi as bbb479d3-f229-52c8-a451-25c83bd15136\n",
      "200\n",
      "('Indexing ', 'sample_iamges/for_rekog_demo/lionel-messi-5.jpg')\n",
      "Populating DynamoDB index for Lionel Messi as 320a67ad-b997-5670-bbd2-bbbe7e47f26f\n",
      "200\n",
      "done\n"
     ]
    }
   ],
   "source": [
    "s3_image_bucket = 'ai-demo-in'\n",
    "s3_folder_name = \"sample_iamges/for_rekog_demo/\"\n",
    "\n",
    "faces = [\n",
    "    {\"objectId\":s3_folder_name+\"lionel-messi-1.jpg\",\"fullName\":\"Lionel Messi\"},\n",
    "    {\"objectId\":s3_folder_name+\"lionel-messi-2.jpg\",\"fullName\":\"Lionel Messi\"},\n",
    "    {\"objectId\":s3_folder_name+\"lionel-messi-3.jpg\",\"fullName\":\"Lionel Messi\"},\n",
    "    {\"objectId\":s3_folder_name+\"lionel-messi-4.jpg\",\"fullName\":\"Lionel Messi\"},\n",
    "    {\"objectId\":s3_folder_name+\"lionel-messi-5.jpg\",\"fullName\":\"Lionel Messi\"}    \n",
    "]\n",
    "\n",
    "face_table = dynamodb.Table('rekognition_personalities')\n",
    "\n",
    "def populate_lookup_table(fullName,perId):\n",
    "    print ('Populating DynamoDB index for ' + fullName + ' as ' + perId)\n",
    "    response = face_table.put_item(\n",
    "                Item={\n",
    "                      'Id': perId,\n",
    "                      'FullName': fullName,\n",
    "                      }\n",
    "                )\n",
    "    return response\n",
    "        \n",
    "def populate_rekognition_collection(objectId):\n",
    "    print ('Indexing ', objectId)\n",
    "    ret = rekognition.index_faces(\n",
    "    CollectionId=rekognition_face_index,\n",
    "    Image={\n",
    "                'S3Object': {\n",
    "                    'Bucket': s3_image_bucket,\n",
    "                    'Name':  objectId\n",
    "                }\n",
    "            }\n",
    "        )\n",
    "    if ret['ResponseMetadata']['HTTPStatusCode'] == 200:\n",
    "        return ret['FaceRecords'][0]['Face']['FaceId']\n",
    "    else:\n",
    "        return False\n",
    "    \n",
    "\n",
    "def populate_index(all_faces,rekognition_face_index):\n",
    "    for f in all_faces:\n",
    "        ret = populate_rekognition_collection(f['objectId'])\n",
    "        if ret == False:\n",
    "            print ('some error')\n",
    "        else:\n",
    "            ret = populate_lookup_table(f['fullName'],ret)\n",
    "            pprint (ret['ResponseMetadata']['HTTPStatusCode'])\n",
    "        \n",
    "              \n",
    "    print ('done')\n",
    "\n",
    "    \n",
    "rekognition_face_index = 'personalities' \n",
    "populate_index(faces,rekognition_face_index)"
   ]
  },
  {
   "cell_type": "code",
   "execution_count": 3,
   "metadata": {
    "collapsed": false
   },
   "outputs": [],
   "source": [
    "# Detect face boxes using Rekognition\n",
    "\n",
    "def face_detection(image_input):\n",
    "    response = rekognition.detect_faces(\n",
    "        Image={\n",
    "            'Bytes':image_input\n",
    "        }                                        \n",
    "        )\n",
    "    \n",
    "    all_faces=response['FaceDetails']\n",
    "    \n",
    "    # initialise list object \n",
    "    boxes = []\n",
    "  \n",
    "    # populate list for each face\n",
    "    for face in all_faces:\n",
    "        boxes.append (face['BoundingBox'])\n",
    "    return boxes\n",
    "\n",
    "# apply face boxes to image and store coordinates for later processing\n",
    "def get_coordinates(face_boxes, image_width, image_height):\n",
    "    # initialise list object \n",
    "    coordinates = [] \n",
    "    for box in face_boxes:\n",
    "        x1 = int(box['Left'] * image_width)-5\n",
    "        y1 = int(box['Top'] * image_height)-5\n",
    "        x2 = int(box['Left'] * image_width + box['Width'] * image_width)+5\n",
    "        y2 = int(box['Top'] * image_height + box['Height']  * image_height)+5\n",
    "        if x1 < 0 : x1=0\n",
    "        if y1 < 0 : y1=0\n",
    "        if x2 < 0 : x2=image_width\n",
    "        if y2 < 0 : y2=image_height \n",
    "            \n",
    "        coordinates.append((x1,y1,x2,y2))\n",
    "        \n",
    "    return coordinates\n",
    "\n",
    "# Search faces in index\n",
    "\n",
    "def get_face_data(image_binary):\n",
    "    \n",
    "    try:\n",
    "        response = rekognition.search_faces_by_image(\n",
    "            CollectionId='personalities',\n",
    "            Image={\n",
    "                'Bytes':image_binary\n",
    "            }                                       \n",
    "            )\n",
    "    \n",
    "        if len(response['FaceMatches']) > 0:\n",
    "            #for o in response['FaceMatches']:\n",
    "             #   print (o['Face']['FaceId'],o['Face']['Confidence'],get_name(o['Face']['FaceId']))\n",
    "            return response['FaceMatches'][0]['Face']['FaceId'],response['FaceMatches'][0]['Face']['Confidence']\n",
    "        else:\n",
    "            return ('no match detected',0)\n",
    "    except Exception as e:\n",
    "        #print (e)\n",
    "        return ('no face detected',0)\n",
    "    \n",
    "def get_name(perId):\n",
    "    response = face_table.get_item(\n",
    "            Key={\n",
    "                'Id': perId\n",
    "            },\n",
    "            AttributesToGet=['FullName']                  \n",
    "        )\n",
    "    \n",
    "    if 'Item' in response:\n",
    "        print('The video features ', response['Item']['FullName'])\n",
    "        return (response['Item']['FullName'])\n",
    "    else:\n",
    "        return ('The video has known faces but there is no match found in personalities metadata')\n"
   ]
  },
  {
   "cell_type": "markdown",
   "metadata": {},
   "source": [
    "# Slicing the Video into Frames\n",
    "\n",
    "Download the video \"Linonel Messi.mp4\" into the same directory"
   ]
  },
  {
   "cell_type": "code",
   "execution_count": 9,
   "metadata": {
    "collapsed": false
   },
   "outputs": [
    {
     "name": "stdout",
     "output_type": "stream",
     "text": [
      "cutting at 1seconds.\n",
      "cutting at 3seconds.\n",
      "cutting at 5seconds.\n",
      "cutting at 7seconds.\n",
      "cutting at 9seconds.\n",
      "cutting at 11seconds.\n",
      "cutting at 13seconds.\n",
      "cutting at 15seconds.\n",
      "cutting at 17seconds.\n",
      "cutting at 19seconds.\n",
      "cutting at 21seconds.\n",
      "cutting at 23seconds.\n",
      "cutting at 25seconds.\n",
      "cutting at 27seconds.\n",
      "cutting at 29seconds.\n",
      "cutting at 31seconds.\n",
      "cutting at 33seconds.\n",
      "cutting at 35seconds.\n",
      "cutting at 37seconds.\n",
      "cutting at 39seconds.\n",
      "cutting at 41seconds.\n",
      "cutting at 43seconds.\n",
      "cutting at 45seconds.\n",
      "cutting at 47seconds.\n",
      "cutting at 49seconds.\n",
      "cutting at 51seconds.\n"
     ]
    }
   ],
   "source": [
    "key = 'Lionel Messi.mp4' #Name of the video file\n",
    "uploadDir = '/tmp/uploads/' # local dir where the sliced frames will be saved\n",
    "    \n",
    "# download object from S3 and instantiate clip object\n",
    "clip_location = key\n",
    "clip = mpy.VideoFileClip(clip_location)\n",
    "clip_lenghts = clip.duration\n",
    "    \n",
    "# slice frames every x second\n",
    "freqOfSlicing = 2\n",
    "\n",
    "frames = []\n",
    "fUNID = str(uuid.uuid4())\n",
    "cut = 1\n",
    "frame = 1\n",
    "while True:\n",
    "    print ('cutting at ' + str(cut) + 'seconds.')\n",
    "    clip.save_frame( uploadDir + str(frame) +'-'+ fUNID +'.jpg',cut)\n",
    "    frames.append (uploadDir + str(frame) +'-'+ fUNID +'.jpg')\n",
    "    cut += freqOfSlicing\n",
    "    frame +=1 \n",
    "    if cut > clip_lenghts:\n",
    "        break"
   ]
  },
  {
   "cell_type": "markdown",
   "metadata": {},
   "source": [
    "# Identify personalities in the video"
   ]
  },
  {
   "cell_type": "code",
   "execution_count": 10,
   "metadata": {
    "collapsed": false
   },
   "outputs": [
    {
     "name": "stdout",
     "output_type": "stream",
     "text": [
      "Searching . . . . . . . . . . . . . . . . . . . . . . ('The video features ', u'Lionel Messi')\n",
      ". . . . done\n"
     ]
    }
   ],
   "source": [
    "# detect people in video clip\n",
    "\n",
    "def get_Faces(image_path):\n",
    "    # load image into byte stream\n",
    "    image_bin=Image.open(image_path)\n",
    "    stream = io.BytesIO()\n",
    "    image_bin.save(stream,format=\"JPEG\")\n",
    "    image_binary = stream.getvalue()\n",
    "    \n",
    "    # Detect face boxes using Rekognition\n",
    "    boxes = face_detection(image_binary)\n",
    "    width, height = image_bin.size\n",
    "    xys = get_coordinates(boxes,width, height)\n",
    "    \n",
    "    # iterate through list of boxes and detect individual face\n",
    "    # initialise list object \n",
    "    ret = []\n",
    "    for box in xys:\n",
    "           \n",
    "        image_crop = image_bin.crop(box)\n",
    "        \n",
    "        # add cropped image to temporary stream\n",
    "        stream2 = io.BytesIO() \n",
    "        image_crop.save(stream2,format=\"JPEG\")\n",
    "        image_region_binary = stream2.getvalue()    \n",
    "        stream2.close()\n",
    "        \n",
    "        try:\n",
    "            # get external ID name of cropped image\n",
    "            retdata=get_face_data(image_region_binary),box\n",
    "            ret.append (get_name(retdata[0][0])) \n",
    "        except Exception as e:\n",
    "            ret.append ((('no face',0),box))\n",
    "            pass\n",
    "    \n",
    "\n",
    "print('Searching'),\n",
    "for i in frames:\n",
    "    #print ('processing: ', i)\n",
    "    print('.'),\n",
    "    get_Faces(i)\n",
    "print ('done')"
   ]
  },
  {
   "cell_type": "markdown",
   "metadata": {},
   "source": [
    "# Identifying objects in the Video"
   ]
  },
  {
   "cell_type": "code",
   "execution_count": 11,
   "metadata": {
    "collapsed": false
   },
   "outputs": [
    {
     "name": "stdout",
     "output_type": "stream",
     "text": [
      "{u'Confidence': 98.28312683105469, u'Name': u'People'}\n",
      "{u'Confidence': 95.06742095947266, u'Name': u'Huddle'}\n",
      "{u'Confidence': 95.06742095947266, u'Name': u'Speech'}\n",
      "{u'Confidence': 88.39244842529297, u'Name': u'Alcohol'}\n",
      "{u'Confidence': 88.39244842529297, u'Name': u'Beverage'}\n",
      "{u'Confidence': 88.39244842529297, u'Name': u'Liquor'}\n",
      "{u'Confidence': 86.78985595703125, u'Name': u'Plant'}\n",
      "{u'Confidence': 86.78985595703125, u'Name': u'Potted Plant'}\n"
     ]
    }
   ],
   "source": [
    "# get labels for video clip\n",
    "\n",
    "weight_labels = []\n",
    "all_labels =[]\n",
    "    \n",
    "def get_Labels(image_path):\n",
    "    # load image into byte stream\n",
    "    image_bin=Image.open(image_path)\n",
    "    stream = io.BytesIO()\n",
    "    image_bin.save(stream,format=\"JPEG\")\n",
    "    image_binary = stream.getvalue()\n",
    "    \n",
    "    # retrieve labels from Rekognition service\n",
    "    ret = rekognition.detect_labels(\n",
    "        Image={'Bytes':image_binary},\n",
    "        MaxLabels=5,\n",
    "    )\n",
    "    \n",
    "    weight_labels.append((image_path,ret['Labels']))\n",
    "    \n",
    "    for i in ret['Labels']:\n",
    "        try:\n",
    "            all_labels.index(i['Name'])\n",
    "            continue\n",
    "        except: \n",
    "            if i['Confidence'] > 85:\n",
    "                pprint (i)\n",
    "\n",
    "    for l in ret['Labels']:\n",
    "        all_labels.append(l['Name'])        \n",
    "\n",
    "list = []\n",
    "for i in frames:\n",
    "    #pprint (i)\n",
    "    get_Labels(i)"
   ]
  },
  {
   "cell_type": "code",
   "execution_count": null,
   "metadata": {
    "collapsed": true
   },
   "outputs": [],
   "source": []
  }
 ],
 "metadata": {
  "anaconda-cloud": {},
  "kernelspec": {
   "display_name": "Python [conda root]",
   "language": "python",
   "name": "conda-root-py"
  },
  "language_info": {
   "codemirror_mode": {
    "name": "ipython",
    "version": 2
   },
   "file_extension": ".py",
   "mimetype": "text/x-python",
   "name": "python",
   "nbconvert_exporter": "python",
   "pygments_lexer": "ipython2",
   "version": "2.7.12"
  }
 },
 "nbformat": 4,
 "nbformat_minor": 1
}
