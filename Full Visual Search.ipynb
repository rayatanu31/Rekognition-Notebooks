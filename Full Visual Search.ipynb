{
 "cells": [
  {
   "cell_type": "markdown",
   "metadata": {},
   "source": [
    "# Visual Search using Rekognition"
   ]
  },
  {
   "cell_type": "code",
   "execution_count": 1,
   "metadata": {
    "collapsed": true
   },
   "outputs": [],
   "source": [
    "# initialise Notebook\n",
    "import imageio\n",
    "imageio.plugins.ffmpeg.download()\n",
    "import boto3\n",
    "from IPython.display import HTML, display\n",
    "from PIL import Image, ImageDraw, ImageFont\n",
    "from pprint import pprint\n",
    "from io import BytesIO\n",
    "import numpy as np\n",
    "import moviepy.editor as mpy\n",
    "import os\n",
    "import uuid\n",
    "import io\n",
    "import tabulate\n",
    "import requests\n",
    "\n",
    "YOUR_ACCESS_KEY='###################'\n",
    "YOUR_SECRET_KEY='############################################'\n",
    "REGION = 'us-west-2'\n",
    "\n",
    "# key variable initiation\n",
    "rekognition = boto3.client('rekognition', region_name=REGION,\n",
    "                           aws_access_key_id=YOUR_ACCESS_KEY,aws_secret_access_key=YOUR_SECRET_KEY)\n",
    "dynamodb = boto3.resource('dynamodb', region_name=REGION,\n",
    "                           aws_access_key_id=YOUR_ACCESS_KEY,aws_secret_access_key=YOUR_SECRET_KEY)\n",
    "s3 = boto3.client('s3', region_name=REGION,\n",
    "                           aws_access_key_id=YOUR_ACCESS_KEY,aws_secret_access_key=YOUR_SECRET_KEY)\n"
   ]
  },
  {
   "cell_type": "markdown",
   "metadata": {},
   "source": [
    "# Setting up ElasticSearch\n",
    "For the first time, uncomment the cli command, run it and again comment it "
   ]
  },
  {
   "cell_type": "code",
   "execution_count": 21,
   "metadata": {
    "collapsed": false
   },
   "outputs": [
    {
     "name": "stdout",
     "output_type": "stream",
     "text": [
      "DOMAINSTATUS\tarn:aws:es:us-west-2:681445445985:domain/testsearch\t\tTrue\tFalse\t681445445985/testsearch\ttestsearch\t1.5\tTrue\n",
      "ADVANCEDOPTIONS\ttrue\n",
      "EBSOPTIONS\tTrue\t10\tgp2\n",
      "ELASTICSEARCHCLUSTERCONFIG\tFalse\t1\tm4.large.elasticsearch\tFalse\n",
      "SNAPSHOTOPTIONS\t0\n"
     ]
    }
   ],
   "source": [
    "%%bash\n",
    "#Creating Elasticsearch Domain\n",
    "\n",
    "#aws es create-elasticsearch-domain --domain-name catalogsearch --elasticsearch-cluster-config  InstanceType=m4.large.elasticsearch,InstanceCount=1 --ebs-options EBSEnabled=true,VolumeType=gp2,VolumeSize=10\n"
   ]
  },
  {
   "cell_type": "code",
   "execution_count": 2,
   "metadata": {
    "collapsed": true
   },
   "outputs": [],
   "source": [
    "#ElasticSearch setup\n",
    "from elasticsearch import Elasticsearch, RequestsHttpConnection\n",
    "from requests_aws4auth import AWS4Auth\n",
    "\n",
    "host = 'search-catalogsearch-uij3n5mhxjujok5vjhdhfkrk5u.us-west-2.es.amazonaws.com'\n",
    "awsauth = AWS4Auth(YOUR_ACCESS_KEY, YOUR_SECRET_KEY, REGION, 'es')\n",
    "\n",
    "es = Elasticsearch(\n",
    "    hosts=[{'host': host, 'port': 443}],\n",
    "    http_auth=awsauth,\n",
    "    use_ssl=True,\n",
    "    verify_certs=True,\n",
    "    connection_class=RequestsHttpConnection\n",
    ")"
   ]
  },
  {
   "cell_type": "markdown",
   "metadata": {},
   "source": [
    "# Ceate Elastic Search Index"
   ]
  },
  {
   "cell_type": "code",
   "execution_count": null,
   "metadata": {
    "collapsed": true
   },
   "outputs": [],
   "source": [
    "#es.indices.delete(index=\"temp-index\")\n",
    "\n"
   ]
  },
  {
   "cell_type": "code",
   "execution_count": 3,
   "metadata": {
    "collapsed": false
   },
   "outputs": [],
   "source": [
    "from cStringIO import StringIO\n",
    "def getImageLabels(image_location):\n",
    "    with open(image_location, 'rb') as image:\n",
    "        ret = rekognition.detect_labels(Image = {'Bytes': image.read()},\n",
    "            MinConfidence=85)\n",
    "\n",
    "    labels = ret['Labels']\n",
    "\n",
    "\n",
    "    buf = StringIO()\n",
    "\n",
    "    j = 0\n",
    "    for label in labels:\n",
    "    #    data_dict[header[i]] = row[i]\n",
    "        buf.write(' ')\n",
    "        buf.write(label['Name'])\n",
    "        j = j+1\n",
    "\n",
    "    return buf"
   ]
  },
  {
   "cell_type": "code",
   "execution_count": 4,
   "metadata": {
    "collapsed": false
   },
   "outputs": [],
   "source": [
    "from IPython.display import HTML, display\n",
    "\n",
    "def handle_submit(sender):\n",
    "    buf = getImageLabels(inputtext.value)\n",
    "    size = 200,200\n",
    "    image_bin=Image.open(inputtext.value)\n",
    "    image_bin.thumbnail(size, Image.ANTIALIAS)\n",
    "    print('This is the image we are searching with')\n",
    "    display(image_bin)\n",
    "    showRelevantImages(buf)\n",
    "    \n",
    "def showRelevantImages(buf):\n",
    "    res = es.search(index=\"temp-index\", body={\"query\": {\"match\": {\"tags\":buf.getvalue()}}})\n",
    "    keys = {}\n",
    "    i=0\n",
    "    for hit in res['hits']['hits']:\n",
    "        dict1 = hit[\"_source\"]\n",
    "        keys[i] = dict1[\"image\"]\n",
    "        i = i + 1\n",
    "\n",
    "    bucket = 'ai-demo-in'\n",
    "\n",
    "    # Output image and labels\n",
    "    orig_image_location = '/tmp'   \n",
    "    file_name = 'img_file'\n",
    "    \n",
    "    html = '<HTML><TABLE>'\n",
    "    print('Matched Images.')\n",
    "    ind = 0\n",
    "    cnt = 0\n",
    "    for key in keys:\n",
    "        cnt += 1\n",
    "        image_location = orig_image_location + '/' + file_name + str(cnt) + '.jpg'\n",
    "        \n",
    "        s3.download_file(bucket, keys[key], image_location)\n",
    "\n",
    "        size = 200,200\n",
    "        \n",
    "        image_bin=Image.open(image_location)\n",
    "        image_bin.thumbnail(size, Image.ANTIALIAS)\n",
    "        \n",
    "        image_bin.save(file_name + str(cnt) + \".thumbnail\", \"JPEG\")\n",
    "        \n",
    "        #display(image_bin)\n",
    "        \n",
    "        if ind==0:\n",
    "            html += '<tr>'\n",
    "\n",
    "        html += '<td><img src=\\''+ file_name + str(cnt) +'.thumbnail\\' /></td>'\n",
    "        ind += 1\n",
    "\n",
    "        if ind==2:\n",
    "            html += '</tr>'\n",
    "            ind = 0\n",
    "        #display(image_bin)\n",
    "    html += '</TABLE></HTML>'\n",
    "    #pprint(ret['Labels'])\n",
    "    display(HTML(html))\n"
   ]
  },
  {
   "cell_type": "code",
   "execution_count": 5,
   "metadata": {
    "collapsed": false
   },
   "outputs": [
    {
     "name": "stdout",
     "output_type": "stream",
     "text": [
      "This is the image we are searching with\n"
     ]
    },
    {
     "data": {
      "image/png": "[encoded data removed]",
      "text/plain": [
       "<PIL.JpegImagePlugin.JpegImageFile image mode=RGB size=200x200 at 0x112EDBE50>"
      ]
     },
     "metadata": {},
     "output_type": "display_data"
    },
    {
     "name": "stdout",
     "output_type": "stream",
     "text": [
      "Matched Images.\n"
     ]
    },
    {
     "data": {
      "text/html": [
       "<HTML><TABLE><tr><td><img src='img_file1.thumbnail' /></td><td><img src='img_file2.thumbnail' /></td></tr><tr><td><img src='img_file3.thumbnail' /></td><td><img src='img_file4.thumbnail' /></td></tr><tr><td><img src='img_file5.thumbnail' /></td><td><img src='img_file6.thumbnail' /></td></tr></TABLE></HTML>"
      ],
      "text/plain": [
       "<IPython.core.display.HTML object>"
      ]
     },
     "metadata": {},
     "output_type": "display_data"
    }
   ],
   "source": [
    "from IPython.display import display \n",
    "from IPython.html import widgets\n",
    "inputtext = widgets.Textarea()\n",
    "\n",
    "display(inputtext)\n",
    "\n",
    "inputbutton = widgets.Button(description='Search Similar Product')\n",
    "\n",
    "display(inputbutton)\n",
    "\n",
    "outputlabel_0 = widgets.HTML()\n",
    "outputlabel_1 = widgets.HTML()\n",
    "display(outputlabel_0)\n",
    "display(outputlabel_1)\n",
    "\n",
    "inputbutton.on_click(handle_submit)"
   ]
  },
  {
   "cell_type": "code",
   "execution_count": null,
   "metadata": {
    "collapsed": true
   },
   "outputs": [],
   "source": []
  }
 ],
 "metadata": {
  "anaconda-cloud": {},
  "kernelspec": {
   "display_name": "Python [conda root]",
   "language": "python",
   "name": "conda-root-py"
  },
  "language_info": {
   "codemirror_mode": {
    "name": "ipython",
    "version": 2
   },
   "file_extension": ".py",
   "mimetype": "text/x-python",
   "name": "python",
   "nbconvert_exporter": "python",
   "pygments_lexer": "ipython2",
   "version": "2.7.12"
  },
  "widgets": {
   "state": {
    "1a809695bbf34673ac22627cab2f2861": {
     "views": [
      {
       "cell_index": 9
      }
     ]
    },
    "3fdcf3ebbfa040c3ac5f272e2ef458df": {
     "views": [
      {
       "cell_index": 9
      }
     ]
    },
    "4b5c9e9638aa4eeaa21d96d980b6a2eb": {
     "views": [
      {
       "cell_index": 9
      }
     ]
    },
    "bb2ec81e651246b68c4027a155e06cd5": {
     "views": [
      {
       "cell_index": 9
      }
     ]
    }
   },
   "version": "1.2.0"
  }
 },
 "nbformat": 4,
 "nbformat_minor": 1
}
